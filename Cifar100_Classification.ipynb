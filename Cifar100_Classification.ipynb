{
  "nbformat": 4,
  "nbformat_minor": 0,
  "metadata": {
    "colab": {
      "provenance": [],
      "gpuType": "T4"
    },
    "kernelspec": {
      "name": "python3",
      "display_name": "Python 3"
    },
    "language_info": {
      "name": "python"
    },
    "accelerator": "GPU"
  },
  "cells": [
    {
      "cell_type": "code",
      "source": [
        "from google.colab import drive\n",
        "drive.mount('/content/drive')"
      ],
      "metadata": {
        "colab": {
          "base_uri": "https://localhost:8080/"
        },
        "id": "Wz5CQou7-qmB",
        "outputId": "051e167f-81d2-49c4-c045-01d494682668"
      },
      "execution_count": 1,
      "outputs": [
        {
          "output_type": "stream",
          "name": "stdout",
          "text": [
            "Mounted at /content/drive\n"
          ]
        }
      ]
    },
    {
      "cell_type": "code",
      "source": [
        "# Define the path where you want to store the dataset\n",
        "dataset_folder_path = '/content/drive/MyDrive/Datasets'\n",
        "cifar100_dataset_folder_path = os.path.join(dataset_folder_path, 'cifar100')\n"
      ],
      "metadata": {
        "id": "uqCt2DE7WIzs"
      },
      "execution_count": 6,
      "outputs": []
    },
    {
      "cell_type": "code",
      "source": [
        "import kagglehub\n",
        "import os\n",
        "import shutil\n",
        "\n",
        "\n",
        "# Create the directory if it doesn't exist\n",
        "os.makedirs(cifar100_dataset_folder_path, exist_ok=True)\n",
        "\n",
        "# Download the dataset\n",
        "print(\"Downloading dataset...\")\n",
        "path = kagglehub.dataset_download(\"ibraheemmoosa/cifar100-256x256\")\n",
        "print(\"Path to dataset files:\", path)\n",
        "\n",
        "# Move the downloaded files to the desired directory\n",
        "for file_name in os.listdir(path):\n",
        "    source_file_path = os.path.join(path, file_name)\n",
        "    destination_file_path = os.path.join(cifar100_dataset_folder_path, file_name)\n",
        "\n",
        "    # Move the file\n",
        "    shutil.move(source_file_path, destination_file_path)\n",
        "\n",
        "print(\"Dataset has been moved to:\", cifar100_dataset_folder_path)\n",
        "\n",
        "# Check if the dataset is nested in a subdirectory (e.g., 'cifar100-preprocessed')\n",
        "nested_folder = os.path.join(cifar100_dataset_folder_path, 'cifar100-preprocessed')\n",
        "if os.path.exists(nested_folder):\n",
        "    print(\"Found nested dataset folder. Moving contents to the root directory...\")\n",
        "    for item in os.listdir(nested_folder):\n",
        "        source_item_path = os.path.join(nested_folder, item)\n",
        "        destination_item_path = os.path.join(cifar100_dataset_folder_path, item)\n",
        "\n",
        "        # Move the item\n",
        "        shutil.move(source_item_path, destination_item_path)\n",
        "\n",
        "    # Remove the now-empty nested folder\n",
        "    os.rmdir(nested_folder)\n",
        "    print(\"Contents moved to the root directory.\")\n",
        "\n",
        "# Verify the contents of the target directory\n",
        "print(\"Contents of the target directory:\", os.listdir(cifar100_dataset_folder_path))"
      ],
      "metadata": {
        "colab": {
          "base_uri": "https://localhost:8080/"
        },
        "id": "jrFGZDt1_w-2",
        "outputId": "c3eb5d38-9841-487c-e1d1-ef31391d9819"
      },
      "execution_count": 12,
      "outputs": [
        {
          "output_type": "stream",
          "name": "stdout",
          "text": [
            "Downloading dataset...\n",
            "Path to dataset files: /root/.cache/kagglehub/datasets/ibraheemmoosa/cifar100-256x256/versions/1\n",
            "Dataset has been moved to: /content/drive/MyDrive/Datasets/cifar100\n",
            "Found nested dataset folder. Moving contents to the root directory...\n",
            "Contents moved to the root directory.\n",
            "Contents of the target directory: ['test', 'train']\n"
          ]
        }
      ]
    },
    {
      "cell_type": "code",
      "source": [
        "import os\n",
        "import re\n",
        "import cv2\n",
        "import numpy as np\n",
        "import torch\n",
        "from torch.utils.data import Dataset\n",
        "from torchvision import transforms\n",
        "from PIL import Image\n",
        "import torch.optim as optim\n",
        "from torch.optim.lr_scheduler import ReduceLROnPlateau\n",
        "from torch.utils.data import DataLoader\n",
        "import matplotlib.pyplot as plt"
      ],
      "metadata": {
        "id": "6eS5wVJ1MQzH"
      },
      "execution_count": 20,
      "outputs": []
    },
    {
      "cell_type": "code",
      "source": [
        "!nvidia-smi"
      ],
      "metadata": {
        "colab": {
          "base_uri": "https://localhost:8080/"
        },
        "id": "FKcfR0AwArhM",
        "outputId": "67c2ddee-8f56-45d2-ff00-669f479afdb6"
      },
      "execution_count": 3,
      "outputs": [
        {
          "output_type": "stream",
          "name": "stdout",
          "text": [
            "Fri Jan 10 22:29:28 2025       \n",
            "+---------------------------------------------------------------------------------------+\n",
            "| NVIDIA-SMI 535.104.05             Driver Version: 535.104.05   CUDA Version: 12.2     |\n",
            "|-----------------------------------------+----------------------+----------------------+\n",
            "| GPU  Name                 Persistence-M | Bus-Id        Disp.A | Volatile Uncorr. ECC |\n",
            "| Fan  Temp   Perf          Pwr:Usage/Cap |         Memory-Usage | GPU-Util  Compute M. |\n",
            "|                                         |                      |               MIG M. |\n",
            "|=========================================+======================+======================|\n",
            "|   0  Tesla T4                       Off | 00000000:00:04.0 Off |                    0 |\n",
            "| N/A   31C    P8               9W /  70W |      0MiB / 15360MiB |      0%      Default |\n",
            "|                                         |                      |                  N/A |\n",
            "+-----------------------------------------+----------------------+----------------------+\n",
            "                                                                                         \n",
            "+---------------------------------------------------------------------------------------+\n",
            "| Processes:                                                                            |\n",
            "|  GPU   GI   CI        PID   Type   Process name                            GPU Memory |\n",
            "|        ID   ID                                                             Usage      |\n",
            "|=======================================================================================|\n",
            "|  No running processes found                                                           |\n",
            "+---------------------------------------------------------------------------------------+\n"
          ]
        }
      ]
    },
    {
      "cell_type": "code",
      "source": [
        "print(f'files in the dataset folder path{os.listdir(cifar100_dataset_folder_path)}')"
      ],
      "metadata": {
        "colab": {
          "base_uri": "https://localhost:8080/"
        },
        "id": "r7lc9e2kBJG9",
        "outputId": "1bd1d746-5cb8-4ee4-d6d4-c1005970134c"
      },
      "execution_count": 7,
      "outputs": [
        {
          "output_type": "stream",
          "name": "stdout",
          "text": [
            "files in the dataset folder path['test', 'train']\n"
          ]
        }
      ]
    },
    {
      "cell_type": "code",
      "source": [
        "\n",
        "# Define the dataset path\n",
        "cifar100_dataset_folder_path = '/content/drive/MyDrive/Datasets/cifar100'\n",
        "\n",
        "# List files in the train folder\n",
        "train_folder = os.path.join(cifar100_dataset_folder_path, 'train')\n",
        "train_files = os.listdir(train_folder)\n",
        "print(\"Files in 'train' folder:\", len(train_files))\n",
        "\n",
        "# List files in the test folder\n",
        "test_folder = os.path.join(cifar100_dataset_folder_path, 'test')\n",
        "test_files = os.listdir(test_folder)\n",
        "print(\"Files in 'test' folder:\", len(test_files))"
      ],
      "metadata": {
        "colab": {
          "base_uri": "https://localhost:8080/"
        },
        "id": "ngl5aT0MHAAH",
        "outputId": "8ef09b2c-bb3b-4966-92cd-2f0933a633ab"
      },
      "execution_count": 8,
      "outputs": [
        {
          "output_type": "stream",
          "name": "stdout",
          "text": [
            "Files in 'train' folder: 50000\n",
            "Files in 'test' folder: 10000\n"
          ]
        }
      ]
    },
    {
      "cell_type": "code",
      "source": [
        "\n",
        "\n",
        "class CustomCIFAR100Dataset(Dataset):\n",
        "    def __init__(self, root_dir, transform=None):\n",
        "        \"\"\"\n",
        "        Args:\n",
        "            root_dir (str): Path to the dataset folder (e.g., '/content/drive/MyDrive/Datasets/cifar100/train').\n",
        "            transform (callable, optional): Optional transform to be applied to the images.\n",
        "        \"\"\"\n",
        "        self.root_dir = root_dir\n",
        "        self.transform = transform\n",
        "\n",
        "        # Get all image file paths in the root directory\n",
        "        self.image_paths = [os.path.join(root_dir, fname) for fname in os.listdir(root_dir) if fname.endswith('.png')]\n",
        "\n",
        "        # Ensure images are found\n",
        "        if not self.image_paths:\n",
        "            raise RuntimeError(f\"No images found in {root_dir}. Make sure the folder contains .png files.\")\n",
        "\n",
        "        # Extract labels from filenames\n",
        "        self.labels = self._extract_labels_from_filenames()\n",
        "\n",
        "    def _extract_labels_from_filenames(self):\n",
        "        \"\"\"\n",
        "        Extracts labels from filenames using a regular expression.\n",
        "        Assumes filenames contain a 2-digit number representing the class label.\n",
        "        Example: 'image_23.png' -> label = 23.\n",
        "        \"\"\"\n",
        "        labels = []\n",
        "        for path in self.image_paths:\n",
        "            # Extract the filename from the full path\n",
        "            filename = os.path.basename(path)\n",
        "\n",
        "            # Use a regular expression to find the 2-digit label in the filename\n",
        "            match = re.search(r'\\d{2}', filename)\n",
        "            if not match:\n",
        "                raise ValueError(f\"Filename {filename} does not contain a valid 2-digit label.\")\n",
        "\n",
        "            # Extract the label and convert it to an integer\n",
        "            label = int(match.group())\n",
        "            labels.append(label)\n",
        "\n",
        "        return labels\n",
        "\n",
        "    def __len__(self):\n",
        "        \"\"\"\n",
        "        Returns the total number of images in the dataset.\n",
        "        \"\"\"\n",
        "        return len(self.image_paths)\n",
        "\n",
        "    def __getitem__(self, idx):\n",
        "        \"\"\"\n",
        "        Loads and returns an image and its corresponding label.\n",
        "        Args:\n",
        "            idx (int): Index of the image to retrieve.\n",
        "        Returns:\n",
        "            image (torch.Tensor): The transformed image.\n",
        "            label (int): The corresponding label.\n",
        "        \"\"\"\n",
        "        # Get the image path and label\n",
        "        image_path = self.image_paths[idx]\n",
        "        label = self.labels[idx]\n",
        "\n",
        "        # Load the image using OpenCV\n",
        "        image = cv2.imread(image_path, cv2.IMREAD_COLOR)\n",
        "        image = cv2.cvtColor(image, cv2.COLOR_BGR2RGB)  # Convert from BGR to RGB\n",
        "\n",
        "        # Convert the image to a PIL image (required for torchvision.transforms)\n",
        "        image = Image.fromarray(image)\n",
        "\n",
        "        # Apply transformations (if any)\n",
        "        if self.transform:\n",
        "            image = self.transform(image)  # Apply torchvision.transforms\n",
        "\n",
        "        # Convert the label to a PyTorch tensor\n",
        "        label = torch.tensor(label, dtype=torch.int64)\n",
        "\n",
        "        return image, label"
      ],
      "metadata": {
        "id": "e0VIjOG6C028"
      },
      "execution_count": 9,
      "outputs": []
    },
    {
      "cell_type": "code",
      "source": [
        "from torchvision import transforms\n",
        "\n",
        "# Define transformations\n",
        "transform = transforms.Compose([\n",
        "    transforms.Resize((256, 256)),  # Resize images to 256x256\n",
        "    transforms.ToTensor(),  # Convert images to PyTorch tensors\n",
        "    transforms.Normalize((0.5, 0.5, 0.5), (0.5, 0.5, 0.5))  # Normalize to [-1, 1]\n",
        "])"
      ],
      "metadata": {
        "id": "hcXIZGAVKYn8"
      },
      "execution_count": 10,
      "outputs": []
    },
    {
      "cell_type": "code",
      "source": [
        "# Define paths\n",
        "train_folder = '/content/drive/MyDrive/Datasets/cifar100/train'\n",
        "test_folder = '/content/drive/MyDrive/Datasets/cifar100/test'\n",
        "\n",
        "# Create dataset instances\n",
        "train_dataset = CustomCIFAR100Dataset(root_dir=train_folder, transform=transform)\n",
        "test_dataset = CustomCIFAR100Dataset(root_dir=test_folder, transform=transform)"
      ],
      "metadata": {
        "id": "yOj46h25Katm"
      },
      "execution_count": 26,
      "outputs": []
    },
    {
      "cell_type": "code",
      "source": [
        "from torch.utils.data import random_split\n",
        "\n",
        "# Define the sizes for training and validation sets\n",
        "train_size = int(0.8 * len(train_dataset))  # 80% for training\n",
        "val_size = len(train_dataset) - train_size  # 20% for validation\n",
        "\n",
        "# Split the training dataset\n",
        "train_dataset, val_dataset = random_split(train_dataset, [train_size, val_size])\n",
        "\n",
        "# Print the sizes of the splits\n",
        "print(f\"Training set size: {len(train_dataset)}\")\n",
        "print(f\"Validation set size: {len(val_dataset)}\")"
      ],
      "metadata": {
        "colab": {
          "base_uri": "https://localhost:8080/"
        },
        "id": "0MKoPXnDXU78",
        "outputId": "0f7328c3-aea1-4c31-8130-e939babd4e5d"
      },
      "execution_count": 27,
      "outputs": [
        {
          "output_type": "stream",
          "name": "stdout",
          "text": [
            "Training set size: 40000\n",
            "Validation set size: 10000\n"
          ]
        }
      ]
    },
    {
      "cell_type": "code",
      "source": [
        "from torch.utils.data import DataLoader\n",
        "\n",
        "# Define batch size\n",
        "batch_size = 64\n",
        "\n",
        "# Create data loaders\n",
        "train_loader = DataLoader(train_dataset, batch_size=batch_size, shuffle=True)\n",
        "val_loader = DataLoader(val_dataset, batch_size=batch_size, shuffle=False)  # No need to shuffle validation data\n",
        "test_loader = DataLoader(test_dataset, batch_size=batch_size, shuffle=False)\n",
        "\n",
        "# Check the number of batches\n",
        "print(\"Number of training batches:\", len(train_loader))\n",
        "print(\"Number of validation batches:\", len(val_loader))\n",
        "print(\"Number of testing batches:\", len(test_loader))"
      ],
      "metadata": {
        "colab": {
          "base_uri": "https://localhost:8080/"
        },
        "id": "u0BcGrSGC25n",
        "outputId": "4600e951-cb1a-41dd-bf68-b1a354432ed8"
      },
      "execution_count": 28,
      "outputs": [
        {
          "output_type": "stream",
          "name": "stdout",
          "text": [
            "Number of training batches: 625\n",
            "Number of validation batches: 157\n",
            "Number of testing batches: 157\n"
          ]
        }
      ]
    },
    {
      "cell_type": "code",
      "source": [
        "# Get a batch of data\n",
        "images, labels = next(iter(train_loader))\n",
        "\n",
        "# Check the shape of the batch\n",
        "print(\"Batch images shape:\", images.shape)  # Should be [batch_size, channels, height, width]\n",
        "print(\"Batch labels shape:\", labels.shape)  # Should be [batch_size]"
      ],
      "metadata": {
        "colab": {
          "base_uri": "https://localhost:8080/"
        },
        "id": "OY8c_-ZFDiqK",
        "outputId": "0b1ec095-c0f0-423e-92ec-597a2bb759a9"
      },
      "execution_count": 15,
      "outputs": [
        {
          "output_type": "stream",
          "name": "stdout",
          "text": [
            "Batch images shape: torch.Size([64, 3, 256, 256])\n",
            "Batch labels shape: torch.Size([64])\n"
          ]
        }
      ]
    },
    {
      "cell_type": "markdown",
      "source": [
        "#Resnet 18 model"
      ],
      "metadata": {
        "id": "VmCaI72jLuOW"
      }
    },
    {
      "cell_type": "code",
      "source": [],
      "metadata": {
        "id": "lPL2q1KiYg05"
      },
      "execution_count": null,
      "outputs": []
    },
    {
      "cell_type": "code",
      "source": [
        "# Initialize variables to save the best model\n",
        "best_val_loss = float('inf')  # Start with infinity\n",
        "best_model_weights = None\n",
        "\n",
        "# Lists to store metrics\n",
        "train_losses = []\n",
        "val_losses = []\n",
        "train_accuracies = []\n",
        "val_accuracies = []\n",
        "\n",
        "# Training function\n",
        "def train(model, dataloader, criterion, optimizer, device):\n",
        "    model.train()  # Set model to training mode\n",
        "    running_loss = 0.0\n",
        "    correct = 0\n",
        "    total = 0\n",
        "\n",
        "    for images, labels in dataloader:\n",
        "        images, labels = images.to(device), labels.to(device)\n",
        "\n",
        "        # Forward pass\n",
        "        optimizer.zero_grad()\n",
        "        outputs = model(images)\n",
        "        loss = criterion(outputs, labels)\n",
        "        running_loss += loss.item()\n",
        "\n",
        "        # Backward pass and optimization\n",
        "        loss.backward()\n",
        "        optimizer.step()\n",
        "\n",
        "        # Calculate accuracy\n",
        "        _, predicted = torch.max(outputs.data, 1)\n",
        "        total += labels.size(0)\n",
        "        correct += (predicted == labels).sum().item()\n",
        "\n",
        "    epoch_loss = running_loss / len(dataloader)\n",
        "    epoch_accuracy = 100 * correct / total\n",
        "    return epoch_loss, epoch_accuracy\n",
        "\n",
        "# Validation function\n",
        "def validate(model, dataloader, criterion, device):\n",
        "    model.eval()  # Set model to evaluation mode\n",
        "    running_loss = 0.0\n",
        "    correct = 0\n",
        "    total = 0\n",
        "\n",
        "    with torch.no_grad():  # Disable gradient calculation\n",
        "        for images, labels in dataloader:\n",
        "            images, labels = images.to(device), labels.to(device)\n",
        "            outputs = model(images)\n",
        "            loss = criterion(outputs, labels)\n",
        "            running_loss += loss.item()\n",
        "\n",
        "            # Calculate accuracy\n",
        "            _, predicted = torch.max(outputs.data, 1)\n",
        "            total += labels.size(0)\n",
        "            correct += (predicted == labels).sum().item()\n",
        "\n",
        "    epoch_loss = running_loss / len(dataloader)\n",
        "    epoch_accuracy = 100 * correct / total\n",
        "    return epoch_loss, epoch_accuracy\n",
        "\n"
      ],
      "metadata": {
        "id": "9yh1SwwtLtF6"
      },
      "execution_count": 29,
      "outputs": []
    },
    {
      "cell_type": "code",
      "source": [
        "def test(model, dataloader, device):\n",
        "    model.eval()\n",
        "    correct = 0\n",
        "    total = 0\n",
        "    with torch.no_grad():\n",
        "        for images, labels in dataloader:\n",
        "            images, labels = images.to(device), labels.to(device)\n",
        "            outputs = model(images)\n",
        "            _, predicted = torch.max(outputs.data, 1)\n",
        "            total += labels.size(0)\n",
        "            correct += (predicted == labels).sum().item()\n",
        "    accuracy = correct / total\n",
        "    print(f\"Test Accuracy: {accuracy:.4f}\")\n",
        "\n"
      ],
      "metadata": {
        "id": "z9cku3SxEKI2"
      },
      "execution_count": 30,
      "outputs": []
    },
    {
      "cell_type": "code",
      "source": [
        "# Early Stopping Class\n",
        "class EarlyStopping:\n",
        "    def __init__(self, patience=5, verbose=False):\n",
        "        self.patience = patience\n",
        "        self.verbose = verbose\n",
        "        self.counter = 0\n",
        "        self.best_loss = float('inf')\n",
        "        self.early_stop = False\n",
        "\n",
        "    def __call__(self, val_loss):\n",
        "        if val_loss < self.best_loss:\n",
        "            self.best_loss = val_loss\n",
        "            self.counter = 0  # Reset counter if validation loss improves\n",
        "        else:\n",
        "            self.counter += 1  # Increment counter if no improvement\n",
        "            if self.counter >= self.patience:\n",
        "                self.early_stop = True\n",
        "                if self.verbose:\n",
        "                    print(\"Early stopping triggered\")\n",
        "\n",
        "# Initialize early stopping\n",
        "early_stopping = EarlyStopping(patience=5, verbose=True)\n"
      ],
      "metadata": {
        "id": "zadxgMpiENKV"
      },
      "execution_count": 31,
      "outputs": []
    },
    {
      "cell_type": "code",
      "source": [
        "# Plot training and validation metrics\n",
        "def plot_metrics(train_losses, val_losses, train_accuracies, val_accuracies):\n",
        "    plt.figure(figsize=(12, 5))\n",
        "    plt.subplot(1, 2, 1)\n",
        "    plt.plot(train_losses, label='Train Loss')\n",
        "    plt.plot(val_losses, label='Validation Loss')\n",
        "    plt.xlabel('Epoch')\n",
        "    plt.ylabel('Loss')\n",
        "    plt.legend()\n",
        "\n",
        "    plt.subplot(1, 2, 2)\n",
        "    plt.plot(train_accuracies, label='Train Accuracy')\n",
        "    plt.plot(val_accuracies, label='Validation Accuracy')\n",
        "    plt.xlabel('Epoch')\n",
        "    plt.ylabel('Accuracy')\n",
        "    plt.legend()\n",
        "    plt.show()\n"
      ],
      "metadata": {
        "id": "NZfqVz9YL4hd"
      },
      "execution_count": 32,
      "outputs": []
    },
    {
      "cell_type": "code",
      "source": [
        "import torch.nn as nn\n",
        "import torchvision.models as models\n",
        "\n",
        "# Load a pre-trained ResNet-18 model\n",
        "model = models.resnet18(pretrained=True)\n",
        "\n",
        "# Modify the final layer for CIFAR-100 (100 classes)\n",
        "model.fc = nn.Linear(model.fc.in_features, 100)\n",
        "\n",
        "# Move the model to the appropriate device (CPU or GPU)\n",
        "device = torch.device(\"cuda\" if torch.cuda.is_available() else \"cpu\")\n",
        "model = model.to(device)\n",
        "\n",
        "# Print the modified model architecture\n",
        "print(model)"
      ],
      "metadata": {
        "colab": {
          "base_uri": "https://localhost:8080/"
        },
        "id": "DxaABDCTL78z",
        "outputId": "4c6eb265-95b2-43b1-f0f8-cff7fd09932c"
      },
      "execution_count": 33,
      "outputs": [
        {
          "output_type": "stream",
          "name": "stdout",
          "text": [
            "ResNet(\n",
            "  (conv1): Conv2d(3, 64, kernel_size=(7, 7), stride=(2, 2), padding=(3, 3), bias=False)\n",
            "  (bn1): BatchNorm2d(64, eps=1e-05, momentum=0.1, affine=True, track_running_stats=True)\n",
            "  (relu): ReLU(inplace=True)\n",
            "  (maxpool): MaxPool2d(kernel_size=3, stride=2, padding=1, dilation=1, ceil_mode=False)\n",
            "  (layer1): Sequential(\n",
            "    (0): BasicBlock(\n",
            "      (conv1): Conv2d(64, 64, kernel_size=(3, 3), stride=(1, 1), padding=(1, 1), bias=False)\n",
            "      (bn1): BatchNorm2d(64, eps=1e-05, momentum=0.1, affine=True, track_running_stats=True)\n",
            "      (relu): ReLU(inplace=True)\n",
            "      (conv2): Conv2d(64, 64, kernel_size=(3, 3), stride=(1, 1), padding=(1, 1), bias=False)\n",
            "      (bn2): BatchNorm2d(64, eps=1e-05, momentum=0.1, affine=True, track_running_stats=True)\n",
            "    )\n",
            "    (1): BasicBlock(\n",
            "      (conv1): Conv2d(64, 64, kernel_size=(3, 3), stride=(1, 1), padding=(1, 1), bias=False)\n",
            "      (bn1): BatchNorm2d(64, eps=1e-05, momentum=0.1, affine=True, track_running_stats=True)\n",
            "      (relu): ReLU(inplace=True)\n",
            "      (conv2): Conv2d(64, 64, kernel_size=(3, 3), stride=(1, 1), padding=(1, 1), bias=False)\n",
            "      (bn2): BatchNorm2d(64, eps=1e-05, momentum=0.1, affine=True, track_running_stats=True)\n",
            "    )\n",
            "  )\n",
            "  (layer2): Sequential(\n",
            "    (0): BasicBlock(\n",
            "      (conv1): Conv2d(64, 128, kernel_size=(3, 3), stride=(2, 2), padding=(1, 1), bias=False)\n",
            "      (bn1): BatchNorm2d(128, eps=1e-05, momentum=0.1, affine=True, track_running_stats=True)\n",
            "      (relu): ReLU(inplace=True)\n",
            "      (conv2): Conv2d(128, 128, kernel_size=(3, 3), stride=(1, 1), padding=(1, 1), bias=False)\n",
            "      (bn2): BatchNorm2d(128, eps=1e-05, momentum=0.1, affine=True, track_running_stats=True)\n",
            "      (downsample): Sequential(\n",
            "        (0): Conv2d(64, 128, kernel_size=(1, 1), stride=(2, 2), bias=False)\n",
            "        (1): BatchNorm2d(128, eps=1e-05, momentum=0.1, affine=True, track_running_stats=True)\n",
            "      )\n",
            "    )\n",
            "    (1): BasicBlock(\n",
            "      (conv1): Conv2d(128, 128, kernel_size=(3, 3), stride=(1, 1), padding=(1, 1), bias=False)\n",
            "      (bn1): BatchNorm2d(128, eps=1e-05, momentum=0.1, affine=True, track_running_stats=True)\n",
            "      (relu): ReLU(inplace=True)\n",
            "      (conv2): Conv2d(128, 128, kernel_size=(3, 3), stride=(1, 1), padding=(1, 1), bias=False)\n",
            "      (bn2): BatchNorm2d(128, eps=1e-05, momentum=0.1, affine=True, track_running_stats=True)\n",
            "    )\n",
            "  )\n",
            "  (layer3): Sequential(\n",
            "    (0): BasicBlock(\n",
            "      (conv1): Conv2d(128, 256, kernel_size=(3, 3), stride=(2, 2), padding=(1, 1), bias=False)\n",
            "      (bn1): BatchNorm2d(256, eps=1e-05, momentum=0.1, affine=True, track_running_stats=True)\n",
            "      (relu): ReLU(inplace=True)\n",
            "      (conv2): Conv2d(256, 256, kernel_size=(3, 3), stride=(1, 1), padding=(1, 1), bias=False)\n",
            "      (bn2): BatchNorm2d(256, eps=1e-05, momentum=0.1, affine=True, track_running_stats=True)\n",
            "      (downsample): Sequential(\n",
            "        (0): Conv2d(128, 256, kernel_size=(1, 1), stride=(2, 2), bias=False)\n",
            "        (1): BatchNorm2d(256, eps=1e-05, momentum=0.1, affine=True, track_running_stats=True)\n",
            "      )\n",
            "    )\n",
            "    (1): BasicBlock(\n",
            "      (conv1): Conv2d(256, 256, kernel_size=(3, 3), stride=(1, 1), padding=(1, 1), bias=False)\n",
            "      (bn1): BatchNorm2d(256, eps=1e-05, momentum=0.1, affine=True, track_running_stats=True)\n",
            "      (relu): ReLU(inplace=True)\n",
            "      (conv2): Conv2d(256, 256, kernel_size=(3, 3), stride=(1, 1), padding=(1, 1), bias=False)\n",
            "      (bn2): BatchNorm2d(256, eps=1e-05, momentum=0.1, affine=True, track_running_stats=True)\n",
            "    )\n",
            "  )\n",
            "  (layer4): Sequential(\n",
            "    (0): BasicBlock(\n",
            "      (conv1): Conv2d(256, 512, kernel_size=(3, 3), stride=(2, 2), padding=(1, 1), bias=False)\n",
            "      (bn1): BatchNorm2d(512, eps=1e-05, momentum=0.1, affine=True, track_running_stats=True)\n",
            "      (relu): ReLU(inplace=True)\n",
            "      (conv2): Conv2d(512, 512, kernel_size=(3, 3), stride=(1, 1), padding=(1, 1), bias=False)\n",
            "      (bn2): BatchNorm2d(512, eps=1e-05, momentum=0.1, affine=True, track_running_stats=True)\n",
            "      (downsample): Sequential(\n",
            "        (0): Conv2d(256, 512, kernel_size=(1, 1), stride=(2, 2), bias=False)\n",
            "        (1): BatchNorm2d(512, eps=1e-05, momentum=0.1, affine=True, track_running_stats=True)\n",
            "      )\n",
            "    )\n",
            "    (1): BasicBlock(\n",
            "      (conv1): Conv2d(512, 512, kernel_size=(3, 3), stride=(1, 1), padding=(1, 1), bias=False)\n",
            "      (bn1): BatchNorm2d(512, eps=1e-05, momentum=0.1, affine=True, track_running_stats=True)\n",
            "      (relu): ReLU(inplace=True)\n",
            "      (conv2): Conv2d(512, 512, kernel_size=(3, 3), stride=(1, 1), padding=(1, 1), bias=False)\n",
            "      (bn2): BatchNorm2d(512, eps=1e-05, momentum=0.1, affine=True, track_running_stats=True)\n",
            "    )\n",
            "  )\n",
            "  (avgpool): AdaptiveAvgPool2d(output_size=(1, 1))\n",
            "  (fc): Linear(in_features=512, out_features=100, bias=True)\n",
            ")\n"
          ]
        }
      ]
    },
    {
      "cell_type": "code",
      "source": [
        "criterion = nn.CrossEntropyLoss()\n",
        "optimizer = optim.Adam(model.parameters(), lr=0.001)\n",
        "scheduler = ReduceLROnPlateau(optimizer, mode='min', factor=0.4, patience=2, verbose=True)\n",
        "num_epoch = 10"
      ],
      "metadata": {
        "id": "HT2kqpirMDKR"
      },
      "execution_count": 34,
      "outputs": []
    },
    {
      "cell_type": "code",
      "source": [
        "# Training loop with early stopping and saving the best model\n",
        "for epoch in range(num_epoch):\n",
        "    # Train for one epoch\n",
        "    train_loss, train_accuracy = train(model, train_loader, criterion, optimizer, device)\n",
        "    train_losses.append(train_loss)\n",
        "    train_accuracies.append(train_accuracy)\n",
        "\n",
        "    # Validate for one epoch\n",
        "    val_loss, val_accuracy = validate(model, val_loader, criterion, device)\n",
        "    val_losses.append(val_loss)\n",
        "    val_accuracies.append(val_accuracy)\n",
        "\n",
        "    # Print epoch results\n",
        "    print('-' * 100)\n",
        "    print(f'Epoch [{epoch + 1}/{num_epoch}], '\n",
        "          f'Train Loss: {train_loss:.4f}, Train Accuracy: {train_accuracy:.2f}%, '\n",
        "          f'Val Loss: {val_loss:.4f}, Val Accuracy: {val_accuracy:.2f}%')\n",
        "\n",
        "    # Step the scheduler based on validation loss\n",
        "    scheduler.step(val_loss)\n",
        "\n",
        "    # Check if the current validation loss is the best we've seen so far\n",
        "    if val_loss < best_val_loss:\n",
        "        best_val_loss = val_loss\n",
        "        best_model_weights = model.state_dict()\n",
        "        print(\"Best model weights saved.\")\n",
        "\n",
        "    # Check for early stopping\n",
        "    early_stopping(val_loss)\n",
        "    if early_stopping.early_stop:\n",
        "        print(f\"Early stopping triggered at epoch {epoch + 1}\")\n",
        "        break\n",
        "\n",
        "# After training, save the best model weights to a file\n",
        "torch.save(best_model_weights, 'best_model_weights.pth')\n",
        "print(\"Best model weights saved to 'best_model_weights.pth'.\")"
      ],
      "metadata": {
        "id": "ZjcoEyh-Mdsx"
      },
      "execution_count": null,
      "outputs": []
    },
    {
      "cell_type": "code",
      "source": [
        "\n",
        "# Call this function at the end of training\n",
        "plot_metrics(train_losses, val_losses, train_accuracies, val_accuracies)"
      ],
      "metadata": {
        "id": "YIO9pqMAXvCV"
      },
      "execution_count": null,
      "outputs": []
    },
    {
      "cell_type": "code",
      "source": [
        "test(model, test_loader, device)"
      ],
      "metadata": {
        "id": "NIgJup9oXxLU"
      },
      "execution_count": null,
      "outputs": []
    },
    {
      "cell_type": "markdown",
      "source": [
        "#YOLOv8 medium model"
      ],
      "metadata": {
        "id": "J8PpGA3EX6p6"
      }
    },
    {
      "cell_type": "code",
      "source": [
        "!pip install ultralytics"
      ],
      "metadata": {
        "id": "c4n_IKXnL8e5"
      },
      "execution_count": null,
      "outputs": []
    },
    {
      "cell_type": "code",
      "source": [
        "from ultralytics import YOLO\n",
        "\n",
        "# Load a pretrained YOLOv8 classification model (medium size)\n",
        "model = YOLO('yolov8m-cls.pt')  # 'm' stands for medium size\n",
        "\n",
        "# Train the model on your dataset\n",
        "results = model.train(\n",
        "    data='/content/drive/MyDrive/Datasets/sports100',  # Path to your dataset\n",
        "    epochs=10,                # Number of epochs\n",
        "    imgsz=224,                # Image size\n",
        "    batch=32,                 # Batch size\n",
        "    name='yolov8m_cls_sports100',  # Name of the training run\n",
        "    project='classification', # Project name\n",
        "    optimizer='Adam',         # Optimizer\n",
        "    lr0=0.001,               # Initial learning rate\n",
        "    patience=3,              # Early stopping patience\n",
        "    device='0'               # Use GPU (set to 'cpu' if no GPU is available)\n",
        ")\n",
        "\n"
      ],
      "metadata": {
        "id": "nVMMbNSfX9QB"
      },
      "execution_count": null,
      "outputs": []
    },
    {
      "cell_type": "code",
      "source": [
        "# Evaluate the model on the validation set\n",
        "metrics = model.val()\n",
        "\n",
        "# Export the model to ONNX format (optional)\n",
        "model.export(format='onnx')"
      ],
      "metadata": {
        "id": "gc0SIhptYRQM"
      },
      "execution_count": null,
      "outputs": []
    }
  ]
}